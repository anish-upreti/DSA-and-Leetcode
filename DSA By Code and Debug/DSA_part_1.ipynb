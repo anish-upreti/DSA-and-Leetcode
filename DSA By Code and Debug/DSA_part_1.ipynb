{
 "cells": [
  {
   "cell_type": "markdown",
   "id": "152a5df6",
   "metadata": {},
   "source": [
    "### Time complexity - rate of increase of time with respect to input size\n",
    "\n",
    "Time complexity is a way to describe how the running time of an algorithm increases with the size of the input.\n",
    "\n",
    "It's usually expressed using Big O notation, which describes the upper bound of the running time as the input grows.\n",
    "\n",
    "| Time Complexity | Description       | Example                          |\n",
    "| --------------- | ----------------- | -------------------------------- |\n",
    "| **O(1)**        | Constant time     | Accessing an array element       |\n",
    "| **O(log n)**    | Logarithmic time  | Binary search                    |\n",
    "| **O(n)**        | Linear time       | Loop through an array            |\n",
    "| **O(n log n)**  | Linearithmic time | Merge sort, quicksort (average)  |\n",
    "| **O(n²)**       | Quadratic time    | Nested loops (e.g., bubble sort) |\n",
    "| **O(2ⁿ)**       | Exponential time  | Solving the traveling salesman   |\n",
    "| **O(n!)**       | Factorial time    | Brute-force permutations         |\n"
   ]
  },
  {
   "cell_type": "markdown",
   "id": "6d6f363f",
   "metadata": {},
   "source": [
    "### Space complextiy = memory space used = auxiliary space(extra space used to solve the problem) + input space(space used to store the input)\n",
    "\n",
    "Space complexity measures the amount of memory an algorithm uses relative to the size of its input.\n",
    "\n",
    "It includes:\n",
    "\n",
    "Input space (memory needed to store input)\n",
    "\n",
    "Auxiliary space (temporary variables, recursion stack, etc.)\n",
    "\n",
    "Like time complexity, it’s expressed using Big O notation (e.g., O(1), O(n), etc.).\n",
    "\n",
    "| Space Complexity | Description                            | Example                    |\n",
    "| ---------------- | -------------------------------------- | -------------------------- |\n",
    "| **O(1)**         | Constant space (no extra memory used)  | Swapping two numbers       |\n",
    "| **O(n)**         | Linear space (memory grows with input) | Storing a copy of an array |\n",
    "| **O(log n)**     | Logarithmic space                      | Recursive binary search    |\n",
    "| **O(n²)**        | Quadratic space                        | 2D matrix storage          |\n",
    "\n",
    "Why It Matters:\n",
    "\n",
    "Helps optimize programs for devices with limited memory (e.g., embedded systems, mobile).\n",
    "\n",
    "Crucial when handling large datasets.\n"
   ]
  },
  {
   "cell_type": "code",
   "execution_count": null,
   "id": "00a84dea",
   "metadata": {},
   "outputs": [],
   "source": []
  },
  {
   "cell_type": "code",
   "execution_count": null,
   "id": "fbd24182",
   "metadata": {},
   "outputs": [],
   "source": []
  },
  {
   "cell_type": "code",
   "execution_count": null,
   "id": "4e5d79f0",
   "metadata": {},
   "outputs": [],
   "source": []
  }
 ],
 "metadata": {
  "kernelspec": {
   "display_name": "myenv",
   "language": "python",
   "name": "python3"
  },
  "language_info": {
   "name": "python",
   "version": "3.11.4"
  }
 },
 "nbformat": 4,
 "nbformat_minor": 5
}
