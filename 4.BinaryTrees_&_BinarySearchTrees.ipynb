{
 "cells": [
  {
   "cell_type": "code",
   "execution_count": 1,
   "metadata": {},
   "outputs": [],
   "source": [
    "# Binary Trees\n",
    "\n",
    "class Node:\n",
    "    def __init__(self,value,left = None, right = None):\n",
    "        self.value = value\n",
    "        self.left = left\n",
    "        self.right = right\n",
    "\n",
    "    def __str__(self):\n",
    "        return str(self.value)"
   ]
  },
  {
   "cell_type": "code",
   "execution_count": null,
   "metadata": {},
   "outputs": [],
   "source": [
    "#      1\n",
    "#   2    3\n",
    "# 4  5  6"
   ]
  },
  {
   "cell_type": "code",
   "execution_count": 2,
   "metadata": {},
   "outputs": [],
   "source": [
    "A = Node(1)\n",
    "B = Node(2)\n",
    "C = Node(3)\n",
    "D = Node(4)\n",
    "E = Node(5)\n",
    "F = Node(6)\n",
    "\n",
    "A.left = B\n",
    "A.right = C\n",
    "B.left = D\n",
    "B.right = E\n",
    "C.left = F"
   ]
  },
  {
   "cell_type": "code",
   "execution_count": 3,
   "metadata": {},
   "outputs": [
    {
     "name": "stdout",
     "output_type": "stream",
     "text": [
      "1\n",
      "2\n",
      "4\n",
      "5\n",
      "3\n",
      "6\n"
     ]
    }
   ],
   "source": [
    "# Recursive pre order traversal DFS ---O(n)(Time and space complexity)\n",
    "def pre_order(node):\n",
    "    if not node:\n",
    "        return\n",
    "    print(node)\n",
    "    pre_order(node.left)\n",
    "    pre_order(node.right)\n",
    "\n",
    "pre_order(A)"
   ]
  },
  {
   "cell_type": "code",
   "execution_count": 5,
   "metadata": {},
   "outputs": [
    {
     "name": "stdout",
     "output_type": "stream",
     "text": [
      "4\n",
      "2\n",
      "5\n",
      "1\n",
      "6\n",
      "3\n"
     ]
    }
   ],
   "source": [
    "# Recursive In order traversal DFS ---O(n)(Time and space complexity)\n",
    "def in_order(node):\n",
    "    if not node:\n",
    "        return\n",
    "    \n",
    "    in_order(node.left)\n",
    "    print(node)\n",
    "    in_order(node.right)\n",
    "\n",
    "in_order(A)"
   ]
  },
  {
   "cell_type": "code",
   "execution_count": 6,
   "metadata": {},
   "outputs": [
    {
     "name": "stdout",
     "output_type": "stream",
     "text": [
      "4\n",
      "5\n",
      "2\n",
      "6\n",
      "3\n",
      "1\n"
     ]
    }
   ],
   "source": [
    "# Recursive post order traversal DFS ---O(n)(Time and space complexity)\n",
    "def post_order(node):\n",
    "    if not node:\n",
    "        return\n",
    "    \n",
    "    post_order(node.left)    \n",
    "    post_order(node.right)\n",
    "    print(node)\n",
    "\n",
    "\n",
    "post_order(A)"
   ]
  },
  {
   "cell_type": "code",
   "execution_count": 7,
   "metadata": {},
   "outputs": [
    {
     "name": "stdout",
     "output_type": "stream",
     "text": [
      "1\n",
      "2\n",
      "3\n",
      "4\n",
      "5\n",
      "6\n"
     ]
    }
   ],
   "source": [
    "# Level order traversal - BFS --O(n) (time and space complexity)\n",
    "\n",
    "from collections import deque\n",
    "\n",
    "def level_order(node):\n",
    "    queue = deque()\n",
    "    queue.append(node)\n",
    "\n",
    "    while queue:\n",
    "        node = queue.popleft()\n",
    "        print(node)\n",
    "\n",
    "        if node.left:queue.append(node.left)\n",
    "        if node.right:queue.append(node.right)\n",
    "\n",
    "level_order(A)"
   ]
  },
  {
   "cell_type": "code",
   "execution_count": 10,
   "metadata": {},
   "outputs": [
    {
     "data": {
      "text/plain": [
       "True"
      ]
     },
     "execution_count": 10,
     "metadata": {},
     "output_type": "execute_result"
    }
   ],
   "source": [
    "# Check if a value exists --DFS\n",
    "def search(node, target):\n",
    "    if not node:\n",
    "        return False\n",
    "    \n",
    "    if node.value == target:\n",
    "        return True\n",
    "    \n",
    "    return search(node.left, target) or search(node.right, target)\n",
    "\n",
    "search(A, 4)"
   ]
  },
  {
   "cell_type": "code",
   "execution_count": 12,
   "metadata": {},
   "outputs": [],
   "source": [
    "# Binary Search Tree\n",
    "\n",
    "#       5\n",
    "#    1      8\n",
    "# -1   3  7   9\n",
    "\n",
    "a = Node(5)\n",
    "b = Node(1)\n",
    "c = Node(8)\n",
    "d = Node(-1)\n",
    "e = Node(3)\n",
    "f = Node(7)\n",
    "g = Node(9)\n",
    "\n",
    "a.left,a.right = b,c\n",
    "b.left,b.right = d,e\n",
    "c.left,c.right = f,g"
   ]
  },
  {
   "cell_type": "code",
   "execution_count": 14,
   "metadata": {},
   "outputs": [
    {
     "data": {
      "text/plain": [
       "True"
      ]
     },
     "execution_count": 14,
     "metadata": {},
     "output_type": "execute_result"
    }
   ],
   "source": [
    "# BST search --O(log n)(Time and space complexity)\n",
    "\n",
    "def search_bst(node,target):\n",
    "    if not node:\n",
    "        return False\n",
    "    \n",
    "    if node.value == target:\n",
    "        return True\n",
    "    \n",
    "    if target < node.value: return search_bst(node.left, target)\n",
    "    else: return search_bst(node.right, target)\n",
    "\n",
    "search_bst(a, 8)"
   ]
  },
  {
   "cell_type": "code",
   "execution_count": null,
   "metadata": {},
   "outputs": [],
   "source": []
  }
 ],
 "metadata": {
  "kernelspec": {
   "display_name": "myenv",
   "language": "python",
   "name": "python3"
  },
  "language_info": {
   "codemirror_mode": {
    "name": "ipython",
    "version": 3
   },
   "file_extension": ".py",
   "mimetype": "text/x-python",
   "name": "python",
   "nbconvert_exporter": "python",
   "pygments_lexer": "ipython3",
   "version": "3.11.4"
  }
 },
 "nbformat": 4,
 "nbformat_minor": 2
}
