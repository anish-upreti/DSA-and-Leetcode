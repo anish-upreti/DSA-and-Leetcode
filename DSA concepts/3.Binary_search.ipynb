{
 "cells": [
  {
   "cell_type": "code",
   "execution_count": 1,
   "metadata": {},
   "outputs": [
    {
     "name": "stdout",
     "output_type": "stream",
     "text": [
      "True\n"
     ]
    }
   ],
   "source": [
    "A = [-7, -3, -1, 0, 4, 6, 7, 10]\n",
    "\n",
    "# Linear --O(n) searching\n",
    "if 4 in A:\n",
    "    print(True)"
   ]
  },
  {
   "cell_type": "code",
   "execution_count": 2,
   "metadata": {},
   "outputs": [
    {
     "data": {
      "text/plain": [
       "True"
      ]
     },
     "execution_count": 2,
     "metadata": {},
     "output_type": "execute_result"
    }
   ],
   "source": [
    "# Tradional binary search\n",
    "# Time complexity --O(log n)\n",
    "# space complexity --O(1)\n",
    "\n",
    "def binary_search(arr, target):\n",
    "    L = 0\n",
    "    R = len(arr)-1\n",
    "    \n",
    "    while L<=R:\n",
    "        M = L + ((R-L)//2)\n",
    "\n",
    "        if arr[M] == target:\n",
    "            return True\n",
    "        elif target < arr[M]:\n",
    "            R = M-1\n",
    "        else:\n",
    "            L = M+1\n",
    "    \n",
    "    return False\n",
    "\n",
    "binary_search(A, 4)"
   ]
  },
  {
   "cell_type": "code",
   "execution_count": 2,
   "metadata": {},
   "outputs": [
    {
     "data": {
      "text/plain": [
       "4"
      ]
     },
     "execution_count": 2,
     "metadata": {},
     "output_type": "execute_result"
    }
   ],
   "source": [
    "# condition based\n",
    "\n",
    "B = [True, True, True, True, False, False, False]\n",
    "\n",
    "def binary_conditional_search(arr):\n",
    "    L = 0\n",
    "    R = len(arr)\n",
    "    \n",
    "    while L < R:\n",
    "        M = (L+R)//2\n",
    "\n",
    "        if arr[M]:\n",
    "            L = M + 1\n",
    "        else:\n",
    "            R = M\n",
    "\n",
    "    return L\n",
    "\n",
    "binary_conditional_search(B)"
   ]
  },
  {
   "cell_type": "code",
   "execution_count": null,
   "metadata": {},
   "outputs": [],
   "source": []
  },
  {
   "cell_type": "code",
   "execution_count": null,
   "metadata": {},
   "outputs": [],
   "source": []
  }
 ],
 "metadata": {
  "kernelspec": {
   "display_name": "myenv",
   "language": "python",
   "name": "python3"
  },
  "language_info": {
   "codemirror_mode": {
    "name": "ipython",
    "version": 3
   },
   "file_extension": ".py",
   "mimetype": "text/x-python",
   "name": "python",
   "nbconvert_exporter": "python",
   "pygments_lexer": "ipython3",
   "version": "3.11.4"
  }
 },
 "nbformat": 4,
 "nbformat_minor": 2
}
