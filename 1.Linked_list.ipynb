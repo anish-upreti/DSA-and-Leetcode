{
 "cells": [
  {
   "cell_type": "code",
   "execution_count": 2,
   "metadata": {},
   "outputs": [],
   "source": [
    "# Singly linked list\n",
    "\n",
    "class SinglyLinked:\n",
    "    def __init__(self,value,next=None):\n",
    "        self.value = value\n",
    "        self.next = next\n",
    "\n",
    "    def __str__(self):\n",
    "        return str(self.value)"
   ]
  },
  {
   "cell_type": "code",
   "execution_count": 3,
   "metadata": {},
   "outputs": [
    {
     "name": "stdout",
     "output_type": "stream",
     "text": [
      "3\n"
     ]
    }
   ],
   "source": [
    "Head = SinglyLinked(3)\n",
    "A = SinglyLinked(5)\n",
    "B = SinglyLinked(6)\n",
    "C = SinglyLinked(9)\n",
    "\n",
    "Head.next = A\n",
    "A.next = B\n",
    "B.next = C\n",
    "\n",
    "print(Head)"
   ]
  },
  {
   "cell_type": "code",
   "execution_count": null,
   "metadata": {},
   "outputs": [
    {
     "name": "stdout",
     "output_type": "stream",
     "text": [
      "3\n",
      "5\n",
      "6\n",
      "9\n"
     ]
    }
   ],
   "source": [
    "# Traverse the list --O(n)\n",
    "cur = Head\n",
    "while cur:\n",
    "    print(cur)\n",
    "    cur = cur.next"
   ]
  },
  {
   "cell_type": "code",
   "execution_count": 5,
   "metadata": {},
   "outputs": [
    {
     "name": "stdout",
     "output_type": "stream",
     "text": [
      "3->5->6->9\n"
     ]
    }
   ],
   "source": [
    "# Display the linked list --o(n)\n",
    "def display(head):\n",
    "    cur = head\n",
    "    lst = []\n",
    "    while cur:\n",
    "        lst.append(str(cur.value))\n",
    "        cur = cur.next\n",
    "    print(\"->\".join(lst))\n",
    "\n",
    "display(Head)\n"
   ]
  },
  {
   "cell_type": "code",
   "execution_count": 8,
   "metadata": {},
   "outputs": [
    {
     "name": "stdout",
     "output_type": "stream",
     "text": [
      "True\n"
     ]
    },
    {
     "data": {
      "text/plain": [
       "False"
      ]
     },
     "execution_count": 8,
     "metadata": {},
     "output_type": "execute_result"
    }
   ],
   "source": [
    "# Search for a node\n",
    "def search(head, value):\n",
    "    cur = head\n",
    "    while cur:\n",
    "        if value == cur.value:\n",
    "            return True\n",
    "        cur = cur.next\n",
    "    return False\n",
    "\n",
    "print(search(Head, 3))\n",
    "search(Head, 11)"
   ]
  },
  {
   "cell_type": "code",
   "execution_count": 11,
   "metadata": {},
   "outputs": [],
   "source": [
    "# Doubly linked list\n",
    "class DoublyLinked:\n",
    "    def __init__(self,value,next=None,prev=None):\n",
    "        self.next =next\n",
    "        self.value = value\n",
    "        self.prev = prev\n",
    "\n",
    "    def __str__(self):\n",
    "        return str(self.value)\n",
    "    \n"
   ]
  },
  {
   "cell_type": "code",
   "execution_count": 12,
   "metadata": {},
   "outputs": [
    {
     "name": "stdout",
     "output_type": "stream",
     "text": [
      "1\n",
      "1\n"
     ]
    }
   ],
   "source": [
    "head = tail = DoublyLinked(1)\n",
    "print(head)\n",
    "print(tail)"
   ]
  },
  {
   "cell_type": "code",
   "execution_count": 15,
   "metadata": {},
   "outputs": [
    {
     "name": "stdout",
     "output_type": "stream",
     "text": [
      "1\n"
     ]
    }
   ],
   "source": [
    "# Display -- O(n)\n",
    "def display(head):\n",
    "    cur = head\n",
    "    lst = []\n",
    "    while cur:\n",
    "        lst.append(str(cur.value))\n",
    "        cur = cur.next\n",
    "    print(\"<->\".join(lst))\n",
    "\n",
    "display(head)"
   ]
  },
  {
   "cell_type": "code",
   "execution_count": null,
   "metadata": {},
   "outputs": [
    {
     "name": "stdout",
     "output_type": "stream",
     "text": [
      "5<->1\n"
     ]
    }
   ],
   "source": [
    "# Insert at the beginning ---O(1)\n",
    "def insert_beginning(head,tail,val):\n",
    "    new_node = DoublyLinked(val,next=head)\n",
    "    head.prev = new_node\n",
    "    return new_node,tail\n",
    "\n",
    "head, tail = insert_beginning(head, tail, 5)\n",
    "display(head)"
   ]
  },
  {
   "cell_type": "code",
   "execution_count": 18,
   "metadata": {},
   "outputs": [
    {
     "name": "stdout",
     "output_type": "stream",
     "text": [
      "5<->1<->7\n"
     ]
    }
   ],
   "source": [
    "# Insert at end ---O(n)\n",
    "def insert_beginning(head,tail,val):\n",
    "    new_node = DoublyLinked(val,prev = tail)\n",
    "    tail.next = new_node\n",
    "    return head, new_node\n",
    "\n",
    "head, tail = insert_beginning(head, tail, 7)\n",
    "display(head)\n"
   ]
  }
 ],
 "metadata": {
  "kernelspec": {
   "display_name": "myenv",
   "language": "python",
   "name": "python3"
  },
  "language_info": {
   "codemirror_mode": {
    "name": "ipython",
    "version": 3
   },
   "file_extension": ".py",
   "mimetype": "text/x-python",
   "name": "python",
   "nbconvert_exporter": "python",
   "pygments_lexer": "ipython3",
   "version": "3.11.4"
  }
 },
 "nbformat": 4,
 "nbformat_minor": 2
}
