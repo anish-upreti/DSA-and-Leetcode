{
 "cells": [
  {
   "cell_type": "code",
   "execution_count": 1,
   "metadata": {},
   "outputs": [
    {
     "name": "stdout",
     "output_type": "stream",
     "text": [
      "[-7, -5, -1, 0, 2, 3, 8, 11]\n"
     ]
    }
   ],
   "source": [
    "# Bubble sort\n",
    "# Time - O(n**2)\n",
    "# space - O(1)\n",
    "\n",
    "A = [8, 11, -7, 0, -5, 3, -1, 2]\n",
    "\n",
    "def bubble_sort(arr):\n",
    "    flag = True\n",
    "    while flag:\n",
    "        flag = False\n",
    "        for i in range(1,len(arr)):\n",
    "            if arr[i-1]>arr[i]:\n",
    "                flag = True\n",
    "                arr[i-1],arr[i] = arr[i],arr[i-1]\n",
    "\n",
    "bubble_sort(A)\n",
    "print(A)"
   ]
  },
  {
   "cell_type": "code",
   "execution_count": 2,
   "metadata": {},
   "outputs": [
    {
     "data": {
      "text/plain": [
       "[-9, -7, -3, -2, 0, 2, 3, 7, 9]"
      ]
     },
     "execution_count": 2,
     "metadata": {},
     "output_type": "execute_result"
    }
   ],
   "source": [
    "# Insertion sort\n",
    "# Time - O(n**2)\n",
    "# space - O(1)\n",
    "\n",
    "B = [-9, 9, -7, 7, -3, 3, 2, -2, 0]\n",
    "\n",
    "def insertion_sort(arr):\n",
    "    for i in range(1,len(arr)):\n",
    "        for j in range(i, 0, -1):\n",
    "            if arr[j-1] > arr[j]:\n",
    "                arr[j-1],arr[j] = arr[j],arr[j-1]\n",
    "            else:\n",
    "                break\n",
    "\n",
    "insertion_sort(B)\n",
    "B"
   ]
  },
  {
   "cell_type": "code",
   "execution_count": 3,
   "metadata": {},
   "outputs": [
    {
     "data": {
      "text/plain": [
       "[-10, -9, -7, -3, -2, 0, 2, 3, 7, 9, 10]"
      ]
     },
     "execution_count": 3,
     "metadata": {},
     "output_type": "execute_result"
    }
   ],
   "source": [
    "# Selection sort\n",
    "# Time - O(n**2)\n",
    "# space - O(1)\n",
    "\n",
    "C = [-9, 9, -7, 7, -3, 3, 2, -2, 0, -10, 10]\n",
    "\n",
    "def selection_sort(arr):\n",
    "    for i in range(len(arr)):\n",
    "        min_index = i\n",
    "        for j in range(i+1,len(arr)):\n",
    "            if arr[j] < arr[min_index]:\n",
    "                min_index = j\n",
    "        arr[i],arr[min_index] = arr[min_index], arr[i]\n",
    "        \n",
    "selection_sort(C)\n",
    "C"
   ]
  },
  {
   "cell_type": "code",
   "execution_count": 8,
   "metadata": {},
   "outputs": [
    {
     "name": "stdout",
     "output_type": "stream",
     "text": [
      "[-4, -2, 0, 1, 2, 3, 6, 7, 12]\n"
     ]
    }
   ],
   "source": [
    "# Merge sort\n",
    "# Time - O(n log n)\n",
    "# space - O(n) --Note: can be log n, but this is harder to code\n",
    "\n",
    "D = [-4, 12, 3, -2, 0, 6, 7, 2, 1]\n",
    "\n",
    "def merge_sort(arr):\n",
    "    n = len(arr)\n",
    "    if n==1:\n",
    "        return arr\n",
    "    \n",
    "    m = len(arr)//2\n",
    "    L = arr[:m]\n",
    "    R = arr[m:]\n",
    "\n",
    "    L = merge_sort(L)\n",
    "    R = merge_sort(R)\n",
    "\n",
    "    l,r = 0,0\n",
    "    L_len = len(L)\n",
    "    R_len = len(R)\n",
    "    sorted_arr = [0] * n\n",
    "    i = 0\n",
    "\n",
    "    while l < L_len and r < R_len:\n",
    "        if L[l] < R[r]:\n",
    "            sorted_arr[i] = L[l]\n",
    "            l+=1\n",
    "        else:\n",
    "            sorted_arr[i] = R[r]\n",
    "            r+=1\n",
    "\n",
    "        i+=1\n",
    "\n",
    "    while l < L_len:\n",
    "        sorted_arr[i] = L[l]\n",
    "        l+=1\n",
    "        i+=1\n",
    "\n",
    "    while r < R_len:\n",
    "        sorted_arr[i] = R[r]\n",
    "        r+=1\n",
    "        i+=1\n",
    "\n",
    "    return sorted_arr\n",
    "\n",
    "sorted_arr = merge_sort(D)\n",
    "print(sorted_arr)\n",
    "\n"
   ]
  },
  {
   "cell_type": "code",
   "execution_count": 9,
   "metadata": {},
   "outputs": [
    {
     "data": {
      "text/plain": [
       "[-9, -7, -4, 0, 1, 2, 3, 6, 8, 12]"
      ]
     },
     "execution_count": 9,
     "metadata": {},
     "output_type": "execute_result"
    }
   ],
   "source": [
    "# Quick sort\n",
    "# Time - O(n log n) (for most of the cases, but technically in the worst case it can be O(n**2))\n",
    "# space - O(n)\n",
    "\n",
    "E = [12, -9, 8, 6, 3, -4, -7, 0, 2, 1]\n",
    "\n",
    "def quick_sort(arr):\n",
    "    if len(arr) <=1:\n",
    "        return arr\n",
    "    \n",
    "    p = arr[-1]\n",
    "    L = [i for i in arr[:-1] if i<=p]\n",
    "    R = [i for i in arr[:-1] if i>p]\n",
    "\n",
    "    L = quick_sort(L)\n",
    "    R = quick_sort(R)\n",
    "\n",
    "    return L +[p] + R\n",
    "\n",
    "quick_sort(E)"
   ]
  }
 ],
 "metadata": {
  "kernelspec": {
   "display_name": "myenv",
   "language": "python",
   "name": "python3"
  },
  "language_info": {
   "codemirror_mode": {
    "name": "ipython",
    "version": 3
   },
   "file_extension": ".py",
   "mimetype": "text/x-python",
   "name": "python",
   "nbconvert_exporter": "python",
   "pygments_lexer": "ipython3",
   "version": "3.11.4"
  }
 },
 "nbformat": 4,
 "nbformat_minor": 2
}
