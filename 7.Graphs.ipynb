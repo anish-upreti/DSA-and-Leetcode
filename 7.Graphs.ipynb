{
 "cells": [
  {
   "cell_type": "code",
   "execution_count": null,
   "metadata": {},
   "outputs": [],
   "source": [
    "#Graphs using adjacency list\n",
    "# Time - O(V + E)\n",
    "# Space - O(V + E)"
   ]
  },
  {
   "cell_type": "code",
   "execution_count": 1,
   "metadata": {},
   "outputs": [
    {
     "data": {
      "text/plain": [
       "[[0, 1], [1, 2], [0, 3], [3, 4], [3, 6], [3, 7], [4, 2], [4, 5], [5, 2]]"
      ]
     },
     "execution_count": 1,
     "metadata": {},
     "output_type": "execute_result"
    }
   ],
   "source": [
    "# Array of Edges (Directed) [Start, End]\n",
    "n = 8\n",
    "A = [[0, 1], [1, 2], [0, 3], [3, 4], [3, 6], [3, 7], [4, 2], [4, 5], [5, 2]]\n",
    "\n",
    "A"
   ]
  },
  {
   "cell_type": "code",
   "execution_count": null,
   "metadata": {},
   "outputs": [
    {
     "data": {
      "text/plain": [
       "[[0, 1, 0, 1, 0, 0, 0, 0],\n",
       " [0, 0, 1, 0, 0, 0, 0, 0],\n",
       " [0, 0, 0, 0, 0, 0, 0, 0],\n",
       " [0, 0, 0, 0, 1, 0, 1, 1],\n",
       " [0, 0, 1, 0, 0, 1, 0, 0],\n",
       " [0, 0, 1, 0, 0, 0, 0, 0],\n",
       " [0, 0, 0, 0, 0, 0, 0, 0],\n",
       " [0, 0, 0, 0, 0, 0, 0, 0]]"
      ]
     },
     "execution_count": 2,
     "metadata": {},
     "output_type": "execute_result"
    }
   ],
   "source": [
    "# convert array of edges to adjacency matrix\n",
    "\n",
    "M = []\n",
    "for i in range(n):\n",
    "    M.append([0]*n)\n",
    "\n",
    "for u,v in A:\n",
    "    M[u][v]=1\n",
    "\n",
    "    # if the graph is undirected, also use:\n",
    "    # M[v][u] = 1\n",
    "\n",
    "M"
   ]
  },
  {
   "cell_type": "code",
   "execution_count": 3,
   "metadata": {},
   "outputs": [
    {
     "data": {
      "text/plain": [
       "defaultdict(list, {0: [1, 3], 1: [2], 3: [4, 6, 7], 4: [2, 5], 5: [2]})"
      ]
     },
     "execution_count": 3,
     "metadata": {},
     "output_type": "execute_result"
    }
   ],
   "source": [
    "# convert array of edges to adjacency list\n",
    "\n",
    "from collections import defaultdict\n",
    "\n",
    "D = defaultdict(list)\n",
    "\n",
    "for u,v in A:\n",
    "    D[u].append(v)\n",
    "\n",
    "    # if the graph is undirected, also use:\n",
    "    # D[v].append(u)\n",
    "\n",
    "D"
   ]
  },
  {
   "cell_type": "code",
   "execution_count": 5,
   "metadata": {},
   "outputs": [
    {
     "name": "stdout",
     "output_type": "stream",
     "text": [
      "0\n",
      "1\n",
      "2\n",
      "3\n",
      "4\n",
      "5\n",
      "6\n",
      "7\n"
     ]
    }
   ],
   "source": [
    "# DFS with Recursion - O(V + E) where V is the number of nodes and E is the number of edges\n",
    "\n",
    "def dfs_recursion(node):\n",
    "    print(node)\n",
    "    for nei_node in D[node]:\n",
    "        if nei_node not in seen:\n",
    "            seen.add(nei_node)\n",
    "            dfs_recursion(nei_node)\n",
    "\n",
    "source = 0\n",
    "seen = set()\n",
    "seen.add(source)\n",
    "dfs_recursion(source)"
   ]
  },
  {
   "cell_type": "code",
   "execution_count": 6,
   "metadata": {},
   "outputs": [
    {
     "name": "stdout",
     "output_type": "stream",
     "text": [
      "0\n",
      "3\n",
      "7\n",
      "6\n",
      "4\n",
      "5\n",
      "2\n",
      "1\n"
     ]
    }
   ],
   "source": [
    "# Iterative DFS with Stack - O(V + E)\n",
    "\n",
    "source = 0\n",
    "seen = set()\n",
    "seen.add(source)\n",
    "stack = [source]\n",
    "\n",
    "while stack:\n",
    "    node = stack.pop()\n",
    "    print(node)\n",
    "    for nei_node in D[node]:\n",
    "        if nei_node not in seen:\n",
    "            seen.add(nei_node)\n",
    "            stack.append(nei_node)"
   ]
  },
  {
   "cell_type": "code",
   "execution_count": 7,
   "metadata": {},
   "outputs": [
    {
     "name": "stdout",
     "output_type": "stream",
     "text": [
      "0\n",
      "1\n",
      "3\n",
      "2\n",
      "4\n",
      "6\n",
      "7\n",
      "5\n"
     ]
    }
   ],
   "source": [
    "# BFS (Queue) - O(V + E)\n",
    "source = 0\n",
    "seen = set()\n",
    "seen.add(source)\n",
    "from collections import deque\n",
    "q = deque()\n",
    "q.append(source)\n",
    "\n",
    "while q:\n",
    "    node = q.popleft()\n",
    "    print(node)\n",
    "    for nei_node in D[node]:\n",
    "        if nei_node not in seen:\n",
    "            seen.add(nei_node)\n",
    "            q.append(nei_node)"
   ]
  },
  {
   "cell_type": "code",
   "execution_count": 10,
   "metadata": {},
   "outputs": [
    {
     "name": "stdout",
     "output_type": "stream",
     "text": [
      "B is connected to: ['A']\n",
      "A is connected to: ['B']\n",
      "C is connected to: ['D']\n",
      "D is connected to: ['C']\n"
     ]
    }
   ],
   "source": [
    "class Node:\n",
    "  def __init__(self, value):\n",
    "    self.value = value\n",
    "    self.neighbors = []\n",
    "\n",
    "  def __str__(self):\n",
    "    return f'Node({self.value})'\n",
    "\n",
    "  def display(self):\n",
    "    connections = [node.value for node in self.neighbors]\n",
    "    return f'{self.value} is connected to: {connections}'\n",
    "\n",
    "A = Node('A')\n",
    "B = Node('B')\n",
    "C = Node('C')\n",
    "D = Node('D')\n",
    "\n",
    "A.neighbors.append(B)\n",
    "B.neighbors.append(A)\n",
    "\n",
    "C.neighbors.append(D)\n",
    "D.neighbors.append(C)\n",
    "\n",
    "print(B.display())\n",
    "print(A.display())\n",
    "print(C.display())\n",
    "print(D.display())"
   ]
  },
  {
   "cell_type": "code",
   "execution_count": null,
   "metadata": {},
   "outputs": [],
   "source": []
  }
 ],
 "metadata": {
  "kernelspec": {
   "display_name": "myenv",
   "language": "python",
   "name": "python3"
  },
  "language_info": {
   "codemirror_mode": {
    "name": "ipython",
    "version": 3
   },
   "file_extension": ".py",
   "mimetype": "text/x-python",
   "name": "python",
   "nbconvert_exporter": "python",
   "pygments_lexer": "ipython3",
   "version": "3.11.4"
  }
 },
 "nbformat": 4,
 "nbformat_minor": 2
}
