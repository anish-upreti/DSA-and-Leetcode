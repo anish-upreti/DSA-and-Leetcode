{
 "cells": [
  {
   "cell_type": "code",
   "execution_count": 5,
   "metadata": {},
   "outputs": [
    {
     "name": "stdout",
     "output_type": "stream",
     "text": [
      "[-4, 2, 3, 6, 8, 10, 12]\n"
     ]
    }
   ],
   "source": [
    "# build min heap (Heapify)\n",
    "# Time -O(n) and Space - O(n)\n",
    "\n",
    "A = [3, 2, -4, 6, 8, 10, 12]\n",
    "import heapq\n",
    "heapq.heapify(A)\n",
    "print(A)"
   ]
  },
  {
   "cell_type": "code",
   "execution_count": 6,
   "metadata": {},
   "outputs": [
    {
     "data": {
      "text/plain": [
       "[-4, 2, 3, 4, 8, 10, 12, 6]"
      ]
     },
     "execution_count": 6,
     "metadata": {},
     "output_type": "execute_result"
    }
   ],
   "source": [
    "# Heap push(Insert element)\n",
    "# Time - O(log n)\n",
    "\n",
    "heapq.heappush(A, 4)\n",
    "A"
   ]
  },
  {
   "cell_type": "code",
   "execution_count": 7,
   "metadata": {},
   "outputs": [
    {
     "data": {
      "text/plain": [
       "([2, 4, 3, 6, 8, 10, 12], -4)"
      ]
     },
     "execution_count": 7,
     "metadata": {},
     "output_type": "execute_result"
    }
   ],
   "source": [
    "# Heap pop (Extract min)\n",
    "# Time - O(log n)\n",
    "\n",
    "min = heapq.heappop(A)\n",
    "A, min\n"
   ]
  },
  {
   "cell_type": "code",
   "execution_count": 9,
   "metadata": {},
   "outputs": [
    {
     "data": {
      "text/plain": [
       "[0, 2, 4, 6, 7, 8, 9]"
      ]
     },
     "execution_count": 9,
     "metadata": {},
     "output_type": "execute_result"
    }
   ],
   "source": [
    "# Heap sort \n",
    "# Time - O(n log n)\n",
    "\n",
    "def heap_sort(arr):\n",
    "    heapq.heapify(arr)\n",
    "    n = len(arr)\n",
    "    new_list = [0]*n\n",
    "\n",
    "    for i in range(n):\n",
    "        min = heapq.heappop(arr)\n",
    "        new_list[i] = min\n",
    "    \n",
    "    return new_list\n",
    "\n",
    "heap_sort([9, 8, 7, 6, 4, 2, 0])"
   ]
  },
  {
   "cell_type": "code",
   "execution_count": 10,
   "metadata": {},
   "outputs": [
    {
     "data": {
      "text/plain": [
       "[14, 8, 10, 7, 2, 1, 4]"
      ]
     },
     "execution_count": 10,
     "metadata": {},
     "output_type": "execute_result"
    }
   ],
   "source": [
    "# for max heap \n",
    "\n",
    "C = [1,2 ,4, 7, 8, 10, 14]\n",
    "\n",
    "def max_heap(arr):\n",
    "    n = len(arr)\n",
    "    for i in range(n):\n",
    "        arr[i] = -arr[i]\n",
    "\n",
    "    heapq.heapify(arr)\n",
    "\n",
    "    for i in range(n):\n",
    "        arr[i] = -arr[i]\n",
    "    \n",
    "    return arr\n",
    "\n",
    "max_heap(C)"
   ]
  },
  {
   "cell_type": "code",
   "execution_count": 12,
   "metadata": {},
   "outputs": [
    {
     "name": "stdout",
     "output_type": "stream",
     "text": [
      "[-7]\n",
      "[-7, -3]\n",
      "[-7, -3, 0]\n",
      "[-7, -3, 0, 2]\n",
      "[-7, -3, 0, 2, 6]\n",
      "[-7, -3, 0, 2, 6, 8]\n",
      "[-7, -3, 0, 2, 6, 8, 12]\n"
     ]
    }
   ],
   "source": [
    "# Build heap from scratch\n",
    "# Time - O(n log n)\n",
    "\n",
    "D = [-7, -3, 0, 2, 6, 8, 12]\n",
    "\n",
    "heap = []\n",
    "\n",
    "for x in D:\n",
    "    heapq.heappush(heap,x)\n",
    "    print(heap)\n",
    "\n"
   ]
  },
  {
   "cell_type": "code",
   "execution_count": null,
   "metadata": {},
   "outputs": [],
   "source": []
  }
 ],
 "metadata": {
  "kernelspec": {
   "display_name": "myenv",
   "language": "python",
   "name": "python3"
  },
  "language_info": {
   "codemirror_mode": {
    "name": "ipython",
    "version": 3
   },
   "file_extension": ".py",
   "mimetype": "text/x-python",
   "name": "python",
   "nbconvert_exporter": "python",
   "pygments_lexer": "ipython3",
   "version": "3.11.4"
  }
 },
 "nbformat": 4,
 "nbformat_minor": 2
}
