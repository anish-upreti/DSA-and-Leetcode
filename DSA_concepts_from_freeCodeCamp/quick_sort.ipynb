{
 "cells": [
  {
   "cell_type": "markdown",
   "id": "3bc985cc",
   "metadata": {},
   "source": [
    "## Quick sort\n"
   ]
  },
  {
   "cell_type": "code",
   "execution_count": 2,
   "id": "5c4e39d1",
   "metadata": {},
   "outputs": [],
   "source": [
    "def partition(nums, start=0, end=None):\n",
    "    if end is None:\n",
    "        end = len(nums) - 1\n",
    "\n",
    "    ## initialize the left and right pointers\n",
    "    l, r = start, end-1\n",
    "\n",
    "    ## iterate until l and r do not coincide\n",
    "    while r>l:\n",
    "        # increment left pointer if num is less than or equal to pivot\n",
    "        if nums[l] <= nums[end]:\n",
    "            l += 1\n",
    "        # decrement right pointer if num is greater than pivot\n",
    "        if nums[r] > nums[end]:\n",
    "            r -= 1\n",
    "\n",
    "        else:\n",
    "            nums[l], nums[r] = nums[r], nums[l]\n",
    "\n",
    "    # place the pivot betwee the two parts\n",
    "    if nums[l] > nums[end]:\n",
    "        nums[l], nums[end] = nums[end], nums[l]\n",
    "        return l  ## returning the position of pivot element\n",
    "    else:\n",
    "        return end   ## returning the position of pivot element"
   ]
  },
  {
   "cell_type": "code",
   "execution_count": 3,
   "id": "14a25a1a",
   "metadata": {},
   "outputs": [
    {
     "name": "stdout",
     "output_type": "stream",
     "text": [
      "[1, 0, 4, 5, 8, 6, 11] 3\n"
     ]
    }
   ],
   "source": [
    "## partition function in action\n",
    "list1 = [1, 0, 4, 11, 8, 6, 5]\n",
    "pivot = partition(list1)\n",
    "print(list1, pivot)"
   ]
  },
  {
   "cell_type": "code",
   "execution_count": 4,
   "id": "04e03d2d",
   "metadata": {},
   "outputs": [],
   "source": [
    "def quick_sort(nums, start=0, end=None):\n",
    "    if end is None:\n",
    "        nums=list(nums)\n",
    "        end = len(nums) - 1\n",
    "\n",
    "    if start < end:\n",
    "        pivot = partition(nums, start, end) ## helper function partition picks a pivot, partitions the array in place and returns the position of the pivot element\n",
    "        quick_sort(nums, start, pivot-1)\n",
    "        quick_sort(nums, pivot+1, end)\n",
    "\n",
    "    return nums\n"
   ]
  },
  {
   "cell_type": "code",
   "execution_count": 5,
   "id": "cc2d4151",
   "metadata": {},
   "outputs": [
    {
     "data": {
      "text/plain": [
       "[-7, -5, 0, 1, 2, 3, 11, 15]"
      ]
     },
     "execution_count": 5,
     "metadata": {},
     "output_type": "execute_result"
    }
   ],
   "source": [
    "nums = [1, 2, 3, -5, 0, -7, 11, 15]\n",
    "quick_sort(nums)"
   ]
  },
  {
   "cell_type": "code",
   "execution_count": null,
   "id": "ff23e955",
   "metadata": {},
   "outputs": [],
   "source": []
  }
 ],
 "metadata": {
  "kernelspec": {
   "display_name": "myenv",
   "language": "python",
   "name": "python3"
  },
  "language_info": {
   "codemirror_mode": {
    "name": "ipython",
    "version": 3
   },
   "file_extension": ".py",
   "mimetype": "text/x-python",
   "name": "python",
   "nbconvert_exporter": "python",
   "pygments_lexer": "ipython3",
   "version": "3.11.4"
  }
 },
 "nbformat": 4,
 "nbformat_minor": 5
}
