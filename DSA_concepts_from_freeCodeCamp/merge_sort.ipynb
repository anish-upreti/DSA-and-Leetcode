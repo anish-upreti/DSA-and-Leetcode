{
 "cells": [
  {
   "cell_type": "markdown",
   "id": "692972de",
   "metadata": {},
   "source": [
    "## Merge sort\n"
   ]
  },
  {
   "cell_type": "code",
   "execution_count": 1,
   "id": "fbcad617",
   "metadata": {},
   "outputs": [],
   "source": [
    "## function to define the merge sort\n",
    "def merge_sort(nums):\n",
    "    ## terminating condition (list of 0 or 1 elements)\n",
    "    if len(nums) <= 1:\n",
    "        return nums\n",
    "\n",
    "    ## get the midpoint\n",
    "    mid = len(nums)//2\n",
    "\n",
    "    ## split the list into two halves\n",
    "    left = nums[:mid]\n",
    "    right = nums[mid:]\n",
    "\n",
    "    ## solve the problem for each half recursively\n",
    "    left_sorted, right_sorted = merge_sort(left), merge_sort(right)\n",
    "\n",
    "    ## combine the results of the two halves\n",
    "    sorted_nums = merge(left_sorted, right_sorted)\n",
    "\n",
    "    return sorted_nums"
   ]
  },
  {
   "cell_type": "code",
   "execution_count": 2,
   "id": "bf7e663d",
   "metadata": {},
   "outputs": [],
   "source": [
    "def merge(nums1, nums2):\n",
    "    ## list to store the results\n",
    "    merged = []\n",
    "\n",
    "    ## indices for iteration\n",
    "    i, j = 0, 0\n",
    "\n",
    "    ## loop over the two lists\n",
    "    while i < len(nums1) and j < len(nums2):\n",
    "        # append the smaller element and move to the next element\n",
    "        if nums1[i] <= nums2[j]:\n",
    "            merged.append(nums1[i])\n",
    "            i += 1\n",
    "        else:\n",
    "            merged.append(nums2[j])\n",
    "            j += 1\n",
    "\n",
    "    ## Get the remaining parts in case one list gets exhausted before another\n",
    "    nums1_remaining = nums1[i:]\n",
    "    nums2_remaining = nums2[j:]\n",
    "\n",
    "    ## return the final merged list\n",
    "    return merged + nums1_remaining + nums2_remaining\n"
   ]
  },
  {
   "cell_type": "code",
   "execution_count": 7,
   "id": "cacaa792",
   "metadata": {},
   "outputs": [
    {
     "data": {
      "text/plain": [
       "[-14, -9, -8, -4, 0, 2, 4, 4, 9, 11, 11, 12, 16]"
      ]
     },
     "execution_count": 7,
     "metadata": {},
     "output_type": "execute_result"
    }
   ],
   "source": [
    "## test the merge sort\n",
    "merge_sort([-9, -8, -4, 0, 9, 4, 4, 11, 16, -14, 2, 11, 12])"
   ]
  }
 ],
 "metadata": {
  "kernelspec": {
   "display_name": "myenv",
   "language": "python",
   "name": "python3"
  },
  "language_info": {
   "codemirror_mode": {
    "name": "ipython",
    "version": 3
   },
   "file_extension": ".py",
   "mimetype": "text/x-python",
   "name": "python",
   "nbconvert_exporter": "python",
   "pygments_lexer": "ipython3",
   "version": "3.11.4"
  }
 },
 "nbformat": 4,
 "nbformat_minor": 5
}
