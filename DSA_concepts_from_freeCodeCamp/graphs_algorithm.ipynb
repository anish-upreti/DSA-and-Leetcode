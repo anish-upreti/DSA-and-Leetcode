{
 "cells": [
  {
   "cell_type": "markdown",
   "id": "72462fda",
   "metadata": {},
   "source": [
    "Graph algorithms are computational procedures that operate on graphs, which are mathematical structures used to model pairwise relations between objects. Graphs consist of nodes (or vertices) and edges (or arcs). These algorithms are used across many fields, such as computer networks, social media analysis, logistics, and biology.\n",
    "\n",
    "## Types of Graphs\n",
    "Directed vs. Undirected: In directed graphs, edges have directions.\n",
    "\n",
    "Weighted vs. Unweighted: Weighted graphs have edges with weights (cost, distance, etc.).\n",
    "\n",
    "Cyclic vs. Acyclic: A cyclic graph contains cycles; an acyclic one doesn't.\n",
    "\n",
    "Connected vs. Disconnected: A connected graph has a path between every pair of nodes.\n",
    "\n",
    "## Common Graph Algorithms\n",
    "### 1. Traversal Algorithms\n",
    "Depth-First Search (DFS): Explores as far as possible along a branch before backtracking.\n",
    "\n",
    "Breadth-First Search (BFS): Explores all neighbors of a node before going deeper.\n",
    "\n",
    "### 2. Shortest Path Algorithms\n",
    "Dijkstra’s Algorithm: Finds the shortest path in weighted graphs with non-negative weights.\n",
    "\n",
    "Bellman-Ford Algorithm: Handles negative weights.\n",
    "\n",
    "Floyd-Warshall Algorithm: Computes all-pairs shortest paths.\n",
    "\n",
    "A*: Heuristic-based algorithm for shortest path, often used in games and maps.\n",
    "\n",
    "### 3. Minimum Spanning Tree (MST) Algorithms\n",
    "Prim’s Algorithm: Builds the MST by adding the smallest edge from the tree.\n",
    "\n",
    "Kruskal’s Algorithm: Builds the MST by sorting edges and connecting components.\n",
    "\n",
    "### 4. Topological Sorting\n",
    "For Directed Acyclic Graphs (DAGs), used in scheduling, course prerequisite resolution, etc.\n",
    "\n",
    "### 5. Cycle Detection\n",
    "Important for deadlock detection, dependency resolution, etc.\n",
    "\n",
    "### 6. Connectivity and Components\n",
    "Union-Find (Disjoint Set Union): Used in Kruskal’s algorithm and dynamic connectivity.\n",
    "\n",
    "### 7. Network Flow Algorithms\n",
    "Ford-Fulkerson / Edmonds-Karp: Compute maximum flow in a flow network.\n",
    "\n",
    "### 8. Graph Coloring\n",
    "Assign colors to nodes so that no adjacent nodes share the same color; used in register allocation, map coloring, etc."
   ]
  },
  {
   "cell_type": "markdown",
   "id": "0646fce9",
   "metadata": {},
   "source": [
    "## Graph Data Strucutre\n",
    "\n",
    "![](https://i.imgur.com/xkgMnwx.png)\n"
   ]
  },
  {
   "cell_type": "markdown",
   "id": "6f8abfda",
   "metadata": {},
   "source": [
    "### Adjacency Lists\n",
    "\n",
    "![](https://i.imgur.com/rgMwkIW.png)\n",
    "\n",
    "\n"
   ]
  },
  {
   "cell_type": "markdown",
   "id": "b373dc48",
   "metadata": {},
   "source": [
    "### Adjacency Matrix\n",
    "\n",
    "![](https://i.imgur.com/oswYKTW.png)\n",
    "\n"
   ]
  },
  {
   "cell_type": "markdown",
   "id": "5a2a8a19",
   "metadata": {},
   "source": [
    "### Q. Create a class to represent a graph as an adjacency list in python."
   ]
  },
  {
   "cell_type": "code",
   "execution_count": 50,
   "id": "ecdb0186",
   "metadata": {},
   "outputs": [
    {
     "name": "stdout",
     "output_type": "stream",
     "text": [
      "[[1], [], [], [], [], [], [], [], [], []]\n"
     ]
    }
   ],
   "source": [
    "# [[] for x in range(10)]\n",
    "# This creates 10 independent inner lists.\n",
    "\n",
    "a = [[] for x in range(10)]\n",
    "a[0].append(1)\n",
    "print(a)\n",
    "\n",
    "# Each [] is a separate list object in memory."
   ]
  },
  {
   "cell_type": "code",
   "execution_count": 51,
   "id": "e1078c41",
   "metadata": {},
   "outputs": [
    {
     "name": "stdout",
     "output_type": "stream",
     "text": [
      "[[1], [1], [1], [1], [1], [1], [1], [1], [1], [1]]\n"
     ]
    }
   ],
   "source": [
    "# ⚠️ [[]] * 10\n",
    "# This creates 10 references to the same list.\n",
    "\n",
    "b = [[]] * 10\n",
    "b[0].append(1)\n",
    "print(b)\n",
    "\n",
    "# All 10 elements in the list are pointing to the same list object. So modifying one modifies them all."
   ]
  },
  {
   "cell_type": "code",
   "execution_count": 52,
   "id": "decba2f3",
   "metadata": {},
   "outputs": [],
   "source": [
    "num_nodes = 5\n",
    "edges = [(0, 1), (0, 4), (1, 2), (1, 3), (1, 4), (2, 3), (3, 4)]\n"
   ]
  },
  {
   "cell_type": "code",
   "execution_count": 53,
   "id": "527dd96b",
   "metadata": {},
   "outputs": [],
   "source": [
    "## class to represent a graph as adjacency list\n",
    "class Graph:\n",
    "    def __init__(self, num_nodes, edges):\n",
    "        self.num_nodes = num_nodes\n",
    "        self.data = [[] for _ in range(num_nodes)]\n",
    "        for n1, n2 in edges:\n",
    "            self.data[n1].append(n2)\n",
    "            self.data[n2].append(n1)"
   ]
  },
  {
   "cell_type": "code",
   "execution_count": 54,
   "id": "d1d94d95",
   "metadata": {},
   "outputs": [
    {
     "data": {
      "text/plain": [
       "[[1, 4], [0, 2, 3, 4], [1, 3], [1, 2, 4], [0, 1, 3]]"
      ]
     },
     "execution_count": 54,
     "metadata": {},
     "output_type": "execute_result"
    }
   ],
   "source": [
    "graph1 = Graph(num_nodes, edges)\n",
    "graph1.data"
   ]
  },
  {
   "cell_type": "code",
   "execution_count": 55,
   "id": "485cbb39",
   "metadata": {},
   "outputs": [],
   "source": [
    "## for better visualization\n",
    "class Graph:\n",
    "    def __init__(self, num_nodes, edges):\n",
    "        self.num_nodes = num_nodes\n",
    "        self.data = [[] for _ in range(num_nodes)]\n",
    "        for n1, n2 in edges:\n",
    "            self.data[n1].append(n2)\n",
    "            self.data[n2].append(n1)\n",
    "\n",
    "    def __repr__(self):\n",
    "        return \"\\n\".join([\"{}:{}\".format(n, neighbors) for n, neighbors in enumerate(self.data)])\n",
    "    \n",
    "    def __str__(self):\n",
    "        return self.__repr__()"
   ]
  },
  {
   "cell_type": "code",
   "execution_count": 56,
   "id": "c01623b2",
   "metadata": {},
   "outputs": [
    {
     "name": "stdout",
     "output_type": "stream",
     "text": [
      "0:[1, 4]\n",
      "1:[0, 2, 3, 4]\n",
      "2:[1, 3]\n",
      "3:[1, 2, 4]\n",
      "4:[0, 1, 3]\n"
     ]
    }
   ],
   "source": [
    "graph1 = Graph(num_nodes, edges)\n",
    "print(graph1)"
   ]
  },
  {
   "cell_type": "code",
   "execution_count": 57,
   "id": "9fb74671",
   "metadata": {},
   "outputs": [
    {
     "name": "stdout",
     "output_type": "stream",
     "text": [
      "defaultdict(<class 'list'>, {0: [1, 4], 1: [0, 2, 3, 4], 4: [0, 1, 3], 2: [1, 3], 3: [1, 2, 4]})\n"
     ]
    }
   ],
   "source": [
    "## another way to convert array of edges to adjacency list\n",
    "\n",
    "from collections import defaultdict\n",
    "\n",
    "D = defaultdict(list)\n",
    "\n",
    "for u,v in edges:\n",
    "    D[u].append(v)\n",
    "\n",
    "    # if the graph is undirected, also use:\n",
    "    D[v].append(u)\n",
    "\n",
    "print(D)"
   ]
  },
  {
   "cell_type": "markdown",
   "id": "a7bea80e",
   "metadata": {},
   "source": [
    "### Q. Represent a graph as an adjacency matrix in python."
   ]
  },
  {
   "cell_type": "code",
   "execution_count": 58,
   "id": "d7ea6d20",
   "metadata": {},
   "outputs": [
    {
     "data": {
      "text/plain": [
       "[[0, 1, 0, 0, 1],\n",
       " [1, 0, 1, 1, 1],\n",
       " [0, 1, 0, 1, 0],\n",
       " [0, 1, 1, 0, 1],\n",
       " [1, 1, 0, 1, 0]]"
      ]
     },
     "execution_count": 58,
     "metadata": {},
     "output_type": "execute_result"
    }
   ],
   "source": [
    "AM = []\n",
    "for _ in range(num_nodes):\n",
    "    AM.append([0]*num_nodes)\n",
    "\n",
    "for u, v in edges:\n",
    "    AM[u][v] = 1\n",
    "\n",
    "    ## for undirected graph, also use below line of code\n",
    "    AM[v][u] = 1\n",
    "\n",
    "AM"
   ]
  },
  {
   "cell_type": "markdown",
   "id": "7c9b9c39",
   "metadata": {},
   "source": [
    "## Graph Traversal"
   ]
  },
  {
   "cell_type": "markdown",
   "id": "b814cbb6",
   "metadata": {},
   "source": [
    "### Breadth First Search\n",
    "Breadth-First Search (BFS) is a fundamental graph traversal algorithm used to explore nodes and edges of a graph in the order of their distance from the starting point (in terms of the number of edges).\n",
    "\n",
    "### 🧠 Key Idea\n",
    "BFS visits all neighbors of a node before moving to their neighbors, which makes it ideal for finding the shortest path in an unweighted graph.\n",
    "\n",
    "### ✅ BFS Characteristics\n",
    "Uses a queue (FIFO) for managing nodes.\n",
    "\n",
    "Guarantees the shortest path in terms of edge count.\n",
    "\n",
    "Works for both directed and undirected graphs.\n",
    "\n",
    "Can be used to check connectivity, find shortest paths, and detect cycles in undirected graphs."
   ]
  },
  {
   "cell_type": "markdown",
   "id": "197d3b32",
   "metadata": {},
   "source": [
    "<img src=\"https://cdn.programiz.com/sites/tutorial2program/files/queue-implementation.png\" width=\"400\">"
   ]
  },
  {
   "attachments": {
    "temp1.png": {
     "image/png": "[encoded data removed]"
    }
   },
   "cell_type": "markdown",
   "id": "c8019500",
   "metadata": {},
   "source": [
    "![temp1.png](attachment:temp1.png)"
   ]
  },
  {
   "cell_type": "code",
   "execution_count": 59,
   "id": "7337644a",
   "metadata": {},
   "outputs": [],
   "source": [
    "## function to traverse all nodes using bfs given root\n",
    "def bfs(graph, root):\n",
    "    queue = []  # This holds nodes to visit\n",
    "    discovered = [False] * len(graph.data)  # Track visited nodes\n",
    "    distance = [None] * len(graph.data)\n",
    "    parent = [None] * len(graph.data)\n",
    "\n",
    "    discovered[root] = True  # Mark the root as discovered\n",
    "    distance[root] = 0\n",
    "    queue.append(root)  # Start with the root node\n",
    "\n",
    "    idx = 0  # Acts like the front of the queue\n",
    "\n",
    "    while idx < len(queue):\n",
    "        current = queue[idx]\n",
    "        idx += 1\n",
    "\n",
    "        # Visit all neighbors of the current node\n",
    "        for neighbor in graph.data[current]:\n",
    "            if not discovered[neighbor]:\n",
    "                distance[neighbor] = 1 + distance[current]\n",
    "                parent[neighbor] = current\n",
    "                discovered[neighbor] = True\n",
    "                queue.append(neighbor)\n",
    "\n",
    "    return queue, distance, parent\n",
    "\n"
   ]
  },
  {
   "cell_type": "code",
   "execution_count": 60,
   "id": "93bc0bcd",
   "metadata": {},
   "outputs": [
    {
     "data": {
      "text/plain": [
       "([3, 1, 2, 4, 0], [2, 1, 1, 0, 1], [1, 3, 3, None, 3])"
      ]
     },
     "execution_count": 60,
     "metadata": {},
     "output_type": "execute_result"
    }
   ],
   "source": [
    "bfs(graph1, 3)"
   ]
  },
  {
   "cell_type": "code",
   "execution_count": 61,
   "id": "7a580d43",
   "metadata": {},
   "outputs": [],
   "source": [
    "## program to check if all nodes in a graph are connected\n",
    "def bfs_check(graph, root, num_nodes):\n",
    "    queue = []\n",
    "    visited = [False] * len(graph.data)\n",
    "\n",
    "    visited[root] = True\n",
    "    queue.append(root)\n",
    "    idx = 0\n",
    "\n",
    "    while idx < len(queue):\n",
    "        #deque\n",
    "        current = queue[idx]\n",
    "        idx += 1\n",
    "\n",
    "        # visit all neighbors of the current node\n",
    "        for neighbor in graph.data[current]:\n",
    "            if not visited[neighbor]:\n",
    "                visited[neighbor] = True\n",
    "                queue.append(neighbor)\n",
    "\n",
    "    if len(queue) != num_nodes:\n",
    "        print(\"All nodes in this graph are not connected\")\n",
    "    else:\n",
    "        print(\"All noded in this graph are connected.\")\n"
   ]
  },
  {
   "cell_type": "code",
   "execution_count": 62,
   "id": "e30aa129",
   "metadata": {},
   "outputs": [
    {
     "name": "stdout",
     "output_type": "stream",
     "text": [
      "All noded in this graph are connected.\n"
     ]
    }
   ],
   "source": [
    "bfs_check(graph1, 3, num_nodes)"
   ]
  },
  {
   "cell_type": "code",
   "execution_count": 67,
   "id": "3ef50697",
   "metadata": {},
   "outputs": [],
   "source": [
    "## another program for bfs\n",
    "from collections import deque\n",
    "\n",
    "def bfs_2(graph, root):\n",
    "    visited = set()\n",
    "    visited.add(root)\n",
    "    queue = deque()\n",
    "    queue.append(root)\n",
    "\n",
    "    while queue:\n",
    "        node = queue.popleft()\n",
    "        print(node)\n",
    "        for neighbor in graph[node]:\n",
    "            if neighbor not in visited:\n",
    "                visited.add(neighbor)\n",
    "                queue.append(neighbor)"
   ]
  },
  {
   "cell_type": "code",
   "execution_count": 68,
   "id": "10358369",
   "metadata": {},
   "outputs": [
    {
     "name": "stdout",
     "output_type": "stream",
     "text": [
      "0\n",
      "1\n",
      "4\n",
      "2\n",
      "3\n"
     ]
    }
   ],
   "source": [
    "bfs_2(D, 0)"
   ]
  }
 ],
 "metadata": {
  "kernelspec": {
   "display_name": "myenv",
   "language": "python",
   "name": "python3"
  },
  "language_info": {
   "codemirror_mode": {
    "name": "ipython",
    "version": 3
   },
   "file_extension": ".py",
   "mimetype": "text/x-python",
   "name": "python",
   "nbconvert_exporter": "python",
   "pygments_lexer": "ipython3",
   "version": "3.11.4"
  }
 },
 "nbformat": 4,
 "nbformat_minor": 5
}
