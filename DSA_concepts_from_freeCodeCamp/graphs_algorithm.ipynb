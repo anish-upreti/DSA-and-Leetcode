{
 "cells": [
  {
   "cell_type": "markdown",
   "id": "72462fda",
   "metadata": {},
   "source": [
    "Graph algorithms are computational procedures that operate on graphs, which are mathematical structures used to model pairwise relations between objects. Graphs consist of nodes (or vertices) and edges (or arcs). These algorithms are used across many fields, such as computer networks, social media analysis, logistics, and biology.\n",
    "\n",
    "## Types of Graphs\n",
    "Directed vs. Undirected: In directed graphs, edges have directions.\n",
    "\n",
    "Weighted vs. Unweighted: Weighted graphs have edges with weights (cost, distance, etc.).\n",
    "\n",
    "Cyclic vs. Acyclic: A cyclic graph contains cycles; an acyclic one doesn't.\n",
    "\n",
    "Connected vs. Disconnected: A connected graph has a path between every pair of nodes.\n",
    "\n",
    "## Common Graph Algorithms\n",
    "### 1. Traversal Algorithms\n",
    "Depth-First Search (DFS): Explores as far as possible along a branch before backtracking.\n",
    "\n",
    "Breadth-First Search (BFS): Explores all neighbors of a node before going deeper.\n",
    "\n",
    "### 2. Shortest Path Algorithms\n",
    "Dijkstra’s Algorithm: Finds the shortest path in weighted graphs with non-negative weights.\n",
    "\n",
    "Bellman-Ford Algorithm: Handles negative weights.\n",
    "\n",
    "Floyd-Warshall Algorithm: Computes all-pairs shortest paths.\n",
    "\n",
    "A*: Heuristic-based algorithm for shortest path, often used in games and maps.\n",
    "\n",
    "### 3. Minimum Spanning Tree (MST) Algorithms\n",
    "Prim’s Algorithm: Builds the MST by adding the smallest edge from the tree.\n",
    "\n",
    "Kruskal’s Algorithm: Builds the MST by sorting edges and connecting components.\n",
    "\n",
    "### 4. Topological Sorting\n",
    "For Directed Acyclic Graphs (DAGs), used in scheduling, course prerequisite resolution, etc.\n",
    "\n",
    "### 5. Cycle Detection\n",
    "Important for deadlock detection, dependency resolution, etc.\n",
    "\n",
    "### 6. Connectivity and Components\n",
    "Union-Find (Disjoint Set Union): Used in Kruskal’s algorithm and dynamic connectivity.\n",
    "\n",
    "### 7. Network Flow Algorithms\n",
    "Ford-Fulkerson / Edmonds-Karp: Compute maximum flow in a flow network.\n",
    "\n",
    "### 8. Graph Coloring\n",
    "Assign colors to nodes so that no adjacent nodes share the same color; used in register allocation, map coloring, etc."
   ]
  },
  {
   "cell_type": "markdown",
   "id": "0646fce9",
   "metadata": {},
   "source": [
    "## Graph Data Strucutre\n",
    "\n",
    "![](https://i.imgur.com/xkgMnwx.png)\n"
   ]
  },
  {
   "cell_type": "markdown",
   "id": "6f8abfda",
   "metadata": {},
   "source": [
    "### Adjacency Lists\n",
    "\n",
    "![](https://i.imgur.com/rgMwkIW.png)\n",
    "\n",
    "\n"
   ]
  },
  {
   "cell_type": "markdown",
   "id": "b373dc48",
   "metadata": {},
   "source": [
    "### Adjacency Matrix\n",
    "\n",
    "![](https://i.imgur.com/oswYKTW.png)\n",
    "\n"
   ]
  },
  {
   "cell_type": "markdown",
   "id": "5a2a8a19",
   "metadata": {},
   "source": [
    "### Q. Create a class to represent a graph as an adjacency list in python."
   ]
  },
  {
   "cell_type": "code",
   "execution_count": null,
   "id": "ecdb0186",
   "metadata": {},
   "outputs": [
    {
     "name": "stdout",
     "output_type": "stream",
     "text": [
      "[[1], [], [], [], [], [], [], [], [], []]\n"
     ]
    }
   ],
   "source": [
    "# [[] for x in range(10)]\n",
    "# This creates 10 independent inner lists.\n",
    "\n",
    "a = [[] for x in range(10)]\n",
    "a[0].append(1)\n",
    "print(a)\n",
    "\n",
    "# Each [] is a separate list object in memory."
   ]
  },
  {
   "cell_type": "code",
   "execution_count": null,
   "id": "e1078c41",
   "metadata": {},
   "outputs": [
    {
     "name": "stdout",
     "output_type": "stream",
     "text": [
      "[[1], [1], [1], [1], [1], [1], [1], [1], [1], [1]]\n"
     ]
    }
   ],
   "source": [
    "# ⚠️ [[]] * 10\n",
    "# This creates 10 references to the same list.\n",
    "\n",
    "b = [[]] * 10\n",
    "b[0].append(1)\n",
    "print(b)\n",
    "\n",
    "# All 10 elements in the list are pointing to the same list object. So modifying one modifies them all."
   ]
  },
  {
   "cell_type": "code",
   "execution_count": 7,
   "id": "decba2f3",
   "metadata": {},
   "outputs": [],
   "source": [
    "num_nodes = 5\n",
    "edges = [(0, 1), (0, 4), (1, 2), (1, 3), (1, 4), (2, 3), (3, 4)]\n"
   ]
  },
  {
   "cell_type": "code",
   "execution_count": null,
   "id": "527dd96b",
   "metadata": {},
   "outputs": [],
   "source": [
    "## class to represent a graph as adjacency list\n",
    "class Graph:\n",
    "    def __init__(self, num_nodes, edges):\n",
    "        self.num_nodes = num_nodes\n",
    "        self.data = [[] for _ in range(num_nodes)]\n",
    "        for n1, n2 in edges:\n",
    "            self.data[n1].append(n2)\n",
    "            self.data[n2].append(n1)"
   ]
  },
  {
   "cell_type": "code",
   "execution_count": 10,
   "id": "d1d94d95",
   "metadata": {},
   "outputs": [
    {
     "data": {
      "text/plain": [
       "[[1, 4], [0, 2, 3, 4], [1, 3], [1, 2, 4], [0, 1, 3]]"
      ]
     },
     "execution_count": 10,
     "metadata": {},
     "output_type": "execute_result"
    }
   ],
   "source": [
    "graph1 = Graph(num_nodes, edges)\n",
    "graph1.data"
   ]
  },
  {
   "cell_type": "code",
   "execution_count": 13,
   "id": "485cbb39",
   "metadata": {},
   "outputs": [],
   "source": [
    "## for better visualization\n",
    "class Graph:\n",
    "    def __init__(self, num_nodes, edges):\n",
    "        self.num_nodes = num_nodes\n",
    "        self.data = [[] for _ in range(num_nodes)]\n",
    "        for n1, n2 in edges:\n",
    "            self.data[n1].append(n2)\n",
    "            self.data[n2].append(n1)\n",
    "\n",
    "    def __repr__(self):\n",
    "        return \"\\n\".join([\"{}:{}\".format(n, neighbors) for n, neighbors in enumerate(self.data)])\n",
    "    \n",
    "    def __str__(self):\n",
    "        return self.__repr__()"
   ]
  },
  {
   "cell_type": "code",
   "execution_count": 15,
   "id": "c01623b2",
   "metadata": {},
   "outputs": [
    {
     "data": {
      "text/plain": [
       "0:[1, 4]\n",
       "1:[0, 2, 3, 4]\n",
       "2:[1, 3]\n",
       "3:[1, 2, 4]\n",
       "4:[0, 1, 3]"
      ]
     },
     "execution_count": 15,
     "metadata": {},
     "output_type": "execute_result"
    }
   ],
   "source": [
    "graph1 = Graph(num_nodes, edges)\n",
    "graph1"
   ]
  }
 ],
 "metadata": {
  "kernelspec": {
   "display_name": "myenv",
   "language": "python",
   "name": "python3"
  },
  "language_info": {
   "codemirror_mode": {
    "name": "ipython",
    "version": 3
   },
   "file_extension": ".py",
   "mimetype": "text/x-python",
   "name": "python",
   "nbconvert_exporter": "python",
   "pygments_lexer": "ipython3",
   "version": "3.11.4"
  }
 },
 "nbformat": 4,
 "nbformat_minor": 5
}
