{
 "cells": [
  {
   "cell_type": "markdown",
   "id": "72462fda",
   "metadata": {},
   "source": [
    "Graph algorithms are computational procedures that operate on graphs, which are mathematical structures used to model pairwise relations between objects. Graphs consist of nodes (or vertices) and edges (or arcs). These algorithms are used across many fields, such as computer networks, social media analysis, logistics, and biology.\n",
    "\n",
    "## Types of Graphs\n",
    "Directed vs. Undirected: In directed graphs, edges have directions.\n",
    "\n",
    "Weighted vs. Unweighted: Weighted graphs have edges with weights (cost, distance, etc.).\n",
    "\n",
    "Cyclic vs. Acyclic: A cyclic graph contains cycles; an acyclic one doesn't.\n",
    "\n",
    "Connected vs. Disconnected: A connected graph has a path between every pair of nodes.\n",
    "\n",
    "## Common Graph Algorithms\n",
    "### 1. Traversal Algorithms\n",
    "Depth-First Search (DFS): Explores as far as possible along a branch before backtracking.\n",
    "\n",
    "Breadth-First Search (BFS): Explores all neighbors of a node before going deeper.\n",
    "\n",
    "### 2. Shortest Path Algorithms\n",
    "Dijkstra’s Algorithm: Finds the shortest path in weighted graphs with non-negative weights.\n",
    "\n",
    "Bellman-Ford Algorithm: Handles negative weights.\n",
    "\n",
    "Floyd-Warshall Algorithm: Computes all-pairs shortest paths.\n",
    "\n",
    "A*: Heuristic-based algorithm for shortest path, often used in games and maps.\n",
    "\n",
    "### 3. Minimum Spanning Tree (MST) Algorithms\n",
    "Prim’s Algorithm: Builds the MST by adding the smallest edge from the tree.\n",
    "\n",
    "Kruskal’s Algorithm: Builds the MST by sorting edges and connecting components.\n",
    "\n",
    "### 4. Topological Sorting\n",
    "For Directed Acyclic Graphs (DAGs), used in scheduling, course prerequisite resolution, etc.\n",
    "\n",
    "### 5. Cycle Detection\n",
    "Important for deadlock detection, dependency resolution, etc.\n",
    "\n",
    "### 6. Connectivity and Components\n",
    "Union-Find (Disjoint Set Union): Used in Kruskal’s algorithm and dynamic connectivity.\n",
    "\n",
    "### 7. Network Flow Algorithms\n",
    "Ford-Fulkerson / Edmonds-Karp: Compute maximum flow in a flow network.\n",
    "\n",
    "### 8. Graph Coloring\n",
    "Assign colors to nodes so that no adjacent nodes share the same color; used in register allocation, map coloring, etc."
   ]
  },
  {
   "cell_type": "markdown",
   "id": "0646fce9",
   "metadata": {},
   "source": [
    "## Graph Data Strucutre\n",
    "\n",
    "![](https://i.imgur.com/xkgMnwx.png)\n"
   ]
  },
  {
   "cell_type": "markdown",
   "id": "6f8abfda",
   "metadata": {},
   "source": [
    "### Adjacency Lists\n",
    "\n",
    "![](https://i.imgur.com/rgMwkIW.png)\n",
    "\n",
    "\n"
   ]
  },
  {
   "cell_type": "markdown",
   "id": "b373dc48",
   "metadata": {},
   "source": [
    "### Adjacency Matrix\n",
    "\n",
    "![](https://i.imgur.com/oswYKTW.png)\n",
    "\n"
   ]
  },
  {
   "cell_type": "code",
   "execution_count": null,
   "id": "ecdb0186",
   "metadata": {
    "vscode": {
     "languageId": "plaintext"
    }
   },
   "outputs": [],
   "source": []
  },
  {
   "cell_type": "code",
   "execution_count": null,
   "id": "e1078c41",
   "metadata": {
    "vscode": {
     "languageId": "plaintext"
    }
   },
   "outputs": [],
   "source": []
  },
  {
   "cell_type": "code",
   "execution_count": null,
   "id": "decba2f3",
   "metadata": {
    "vscode": {
     "languageId": "plaintext"
    }
   },
   "outputs": [],
   "source": []
  }
 ],
 "metadata": {
  "language_info": {
   "name": "python"
  }
 },
 "nbformat": 4,
 "nbformat_minor": 5
}
