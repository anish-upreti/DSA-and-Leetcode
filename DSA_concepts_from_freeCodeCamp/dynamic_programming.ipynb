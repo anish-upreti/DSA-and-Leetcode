{
 "cells": [
  {
   "cell_type": "markdown",
   "id": "49ade4c6",
   "metadata": {},
   "source": [
    "### longest common subsequence\n",
    "#### we are given two sequences and we need to find the length of the longest common subsequence between them\n"
   ]
  },
  {
   "cell_type": "markdown",
   "id": "4752d8a7",
   "metadata": {},
   "source": [
    "we can use different test cases like:\n",
    "- general case(string)\n",
    "- general case (list)\n",
    "- no common subsequence\n",
    "- one is the subsequence of other\n",
    "- one sequence is empty\n",
    "- both sequences are empty\n",
    "- multiple subsequences with same length"
   ]
  },
  {
   "cell_type": "code",
   "execution_count": 1,
   "id": "c7aa0453",
   "metadata": {},
   "outputs": [],
   "source": [
    "def len_lcs(seq1, seq2):\n",
    "    pass"
   ]
  },
  {
   "cell_type": "code",
   "execution_count": 2,
   "id": "ff84d0b0",
   "metadata": {},
   "outputs": [],
   "source": [
    "## synthetic test cases\n",
    "T0 = {\n",
    "    \"input\": {\n",
    "        \"seq1\" : \"serendipitous\",\n",
    "        \"seq2\" : \"precipitation\"\n",
    "    },\n",
    "    \"output\" : 7\n",
    "}\n",
    "\n",
    "T1 = {\n",
    "    \"input\": {\n",
    "        \"seq1\": [1, 2, 3, 4, 6, 8, 9],\n",
    "        \"seq2\" : [4, 5, 6, 7, 8, 9, 10, 11]\n",
    "    },\n",
    "    \"output\": 4\n",
    "}\n",
    "\n",
    "T2 = {\n",
    "    \"input\":{\n",
    "        \"seq1\" : \"asdfghjkl\",\n",
    "        \"seq2\" : \"qwertyuiop\"\n",
    "    },\n",
    "    \"output\" : 0\n",
    "}\n",
    "\n",
    "T3 = {\n",
    "    \"input\":{\n",
    "        \"seq1\": \"dense\",\n",
    "        \"seq2\" : \"condensed\"\n",
    "    },\n",
    "    \"output\" : 5\n",
    "}\n",
    "\n",
    "T4 = {\n",
    "    \"input\":{\n",
    "        \"seq1\" : \"\",\n",
    "        \"seq2\" : \"abcd\"\n",
    "    },\n",
    "    \"output\" : 0\n",
    "}\n",
    "\n",
    "T5 = {\n",
    "    \"input\":{\n",
    "        \"seq1\": \"\",\n",
    "        \"seq2\": \"\"\n",
    "    },\n",
    "    \"output\": 0\n",
    "}"
   ]
  },
  {
   "cell_type": "code",
   "execution_count": 3,
   "id": "c83db81b",
   "metadata": {},
   "outputs": [],
   "source": [
    "lcs_tests = [T0, T1, T2, T3, T4, T5]\n"
   ]
  },
  {
   "cell_type": "code",
   "execution_count": 4,
   "id": "fb49c6de",
   "metadata": {},
   "outputs": [],
   "source": [
    "## solving using recursion\n",
    "def lcs_recursive(seq1, seq2, idx1= 0, idx2 = 0):\n",
    "    if idx1 == len(seq1) or idx2 == len(seq2):\n",
    "        return 0\n",
    "    elif seq1[idx1] == seq2[idx2]:\n",
    "        return 1 + lcs_recursive(seq1, seq2, idx1+1, idx2+1)\n",
    "    else:\n",
    "        option1 = lcs_recursive(seq1, seq2, idx1+1, idx2)\n",
    "        option2 = lcs_recursive(seq1, seq2, idx1, idx2+1)\n",
    "        return max(option1, option2)"
   ]
  },
  {
   "cell_type": "code",
   "execution_count": 5,
   "id": "e4743921",
   "metadata": {},
   "outputs": [
    {
     "data": {
      "text/plain": [
       "7"
      ]
     },
     "execution_count": 5,
     "metadata": {},
     "output_type": "execute_result"
    }
   ],
   "source": [
    "## checking for test cases\n",
    "lcs_recursive(T0[\"input\"][\"seq1\"], T0[\"input\"][\"seq2\"])"
   ]
  },
  {
   "cell_type": "code",
   "execution_count": 6,
   "id": "37ecc2f2",
   "metadata": {},
   "outputs": [
    {
     "data": {
      "text/plain": [
       "True"
      ]
     },
     "execution_count": 6,
     "metadata": {},
     "output_type": "execute_result"
    }
   ],
   "source": [
    "lcs_recursive(T0[\"input\"][\"seq1\"], T0[\"input\"][\"seq2\"]) == T0[\"output\"]"
   ]
  },
  {
   "cell_type": "markdown",
   "id": "51db2696",
   "metadata": {},
   "source": [
    "#### Time complexity for this problem is : O(2 pow (m + n)) using recursive approach"
   ]
  },
  {
   "cell_type": "markdown",
   "id": "7f7cf333",
   "metadata": {},
   "source": [
    "## solving problem using memoization"
   ]
  },
  {
   "cell_type": "code",
   "execution_count": 7,
   "id": "db5bb187",
   "metadata": {},
   "outputs": [],
   "source": [
    "def lcs_memo(seq1, seq2):\n",
    "    memo = {}\n",
    "\n",
    "    def recursive(idx1=0, idx2=0):\n",
    "        key = (idx1, idx2)\n",
    "\n",
    "        # Check if the result for the current pair of indices is already computed\n",
    "        if key in memo:\n",
    "            return memo[key]\n",
    "        \n",
    "        # Base case: if either sequence is exhausted\n",
    "        elif idx1 == len(seq1) or idx2 == len(seq2):\n",
    "            memo[key] = 0 \n",
    "        \n",
    "        # If the characters match, increment the LCS length\n",
    "        elif seq1[idx1] == seq2[idx2]:\n",
    "            memo[key] = 1 + recursive(idx1 + 1, idx2 + 1)\n",
    "        \n",
    "        # If characters do not match, try both possibilities and take the maximum\n",
    "        else:\n",
    "            memo[key] = max(recursive(idx1 + 1, idx2), recursive(idx1, idx2 + 1))\n",
    "\n",
    "        return memo[key]\n",
    "\n",
    "    # Start the recursive process\n",
    "    return recursive(0, 0)\n"
   ]
  },
  {
   "cell_type": "code",
   "execution_count": 8,
   "id": "9300c7a2",
   "metadata": {},
   "outputs": [
    {
     "data": {
      "text/plain": [
       "True"
      ]
     },
     "execution_count": 8,
     "metadata": {},
     "output_type": "execute_result"
    }
   ],
   "source": [
    "lcs_memo(T0[\"input\"][\"seq1\"], T0[\"input\"][\"seq2\"]) == T0[\"output\"]"
   ]
  },
  {
   "cell_type": "code",
   "execution_count": 9,
   "id": "eee4627b",
   "metadata": {},
   "outputs": [
    {
     "data": {
      "text/plain": [
       "True"
      ]
     },
     "execution_count": 9,
     "metadata": {},
     "output_type": "execute_result"
    }
   ],
   "source": [
    "lcs_memo(T1[\"input\"][\"seq1\"], T1[\"input\"][\"seq2\"]) == T1[\"output\"]"
   ]
  },
  {
   "cell_type": "code",
   "execution_count": 10,
   "id": "8e75475e",
   "metadata": {},
   "outputs": [],
   "source": [
    "## Time complexity using memoization is : O(m * n), where m and n are the length of seq1 and seq2 respectively\n",
    "##Memoization, while useful for optimizing performance by storing and reusing function results, also has drawbacks, including increased memory usage, potential cache invalidation issues, and increased code complexity. \n",
    "# Additionally, over-memoization can lead to a less readable codebase and potentially miss true performance issues"
   ]
  },
  {
   "cell_type": "markdown",
   "id": "0d55c6cc",
   "metadata": {},
   "source": [
    "## Solving the problem using dynamic programming"
   ]
  },
  {
   "cell_type": "code",
   "execution_count": 11,
   "id": "477633bb",
   "metadata": {},
   "outputs": [
    {
     "data": {
      "text/plain": [
       "[[0, 0, 0, 0, 0, 0, 0],\n",
       " [0, 0, 0, 0, 0, 0, 0],\n",
       " [0, 0, 0, 0, 0, 0, 0],\n",
       " [0, 0, 0, 0, 0, 0, 0],\n",
       " [0, 0, 0, 0, 0, 0, 0]]"
      ]
     },
     "execution_count": 11,
     "metadata": {},
     "output_type": "execute_result"
    }
   ],
   "source": [
    "n1, n2 = 5, 7\n",
    "[[0 for x in range(n2)] for x in range(n1)] "
   ]
  },
  {
   "cell_type": "code",
   "execution_count": 12,
   "id": "536e8231",
   "metadata": {},
   "outputs": [],
   "source": [
    "def lcs_dp(seq1, seq2):\n",
    "    n1, n2 = len(seq1), len(seq2)\n",
    "    table = [[0 for x in range(n2+1)] for x in range(n1+1)]\n",
    "\n",
    "    for i in range(n1):\n",
    "        for j in range(n2):\n",
    "            if seq1[i] == seq2[j]:\n",
    "                table[i+1][j+1] = 1 + table[i][j]\n",
    "            else:\n",
    "                table[i+1][j+1] = max(table[i][j+1], table[i+1][j])\n",
    "    return table[-1][-1]"
   ]
  },
  {
   "cell_type": "code",
   "execution_count": 13,
   "id": "3ae75f84",
   "metadata": {},
   "outputs": [
    {
     "data": {
      "text/plain": [
       "True"
      ]
     },
     "execution_count": 13,
     "metadata": {},
     "output_type": "execute_result"
    }
   ],
   "source": [
    "lcs_dp(T1[\"input\"][\"seq1\"], T1[\"input\"][\"seq2\"]) == T1[\"output\"]"
   ]
  },
  {
   "cell_type": "code",
   "execution_count": 14,
   "id": "49831ce9",
   "metadata": {},
   "outputs": [
    {
     "data": {
      "text/plain": [
       "True"
      ]
     },
     "execution_count": 14,
     "metadata": {},
     "output_type": "execute_result"
    }
   ],
   "source": [
    "lcs_dp(T2[\"input\"][\"seq1\"], T2[\"input\"][\"seq2\"]) == T2[\"output\"]"
   ]
  },
  {
   "cell_type": "markdown",
   "id": "f59bcbf7",
   "metadata": {},
   "source": [
    "# 0-1 knapsack problem\n",
    "Given n elements, each of which has a weight and a profit, determine the maximum profit that can be obtained by selecting subset of the elements weighing no more than w."
   ]
  },
  {
   "cell_type": "markdown",
   "id": "785c7f21",
   "metadata": {},
   "source": [
    "Input:  \n",
    "1. weights - list of numbers containing weights\n",
    "2. profits - list of numbers containing profits\n",
    "3. capacity - maximum weight allowed\n",
    "\n",
    "Output:\n",
    "1. max profit - maximum profit that can be obtained by selecting elements of total weight no more than capacity"
   ]
  },
  {
   "cell_type": "code",
   "execution_count": 15,
   "id": "124bbe87",
   "metadata": {},
   "outputs": [],
   "source": [
    "def max_profit(weights, profits, capacity):\n",
    "    pass"
   ]
  },
  {
   "cell_type": "code",
   "execution_count": 16,
   "id": "8ba44ac1",
   "metadata": {},
   "outputs": [],
   "source": [
    "## knapsack test cases\n",
    "test0 = {\n",
    "    'input': {\n",
    "        'capacity': 165,\n",
    "        'weights': [23, 31, 29, 44, 53, 38, 63, 85, 89, 82],\n",
    "        'profits': [92, 57, 49, 68, 60, 43, 67, 84, 87, 72]\n",
    "    },\n",
    "    'output': 309\n",
    "}\n",
    "\n",
    "test1 = {\n",
    "    'input': {\n",
    "        'capacity': 3,\n",
    "        'weights': [4, 5, 6],\n",
    "        'profits': [1, 2, 3]\n",
    "    },\n",
    "    'output': 0\n",
    "}\n",
    "\n",
    "test2 = {\n",
    "    'input': {\n",
    "        'capacity': 4,\n",
    "        'weights': [4, 5, 1],\n",
    "        'profits': [1, 2, 3]\n",
    "    },\n",
    "    'output': 3\n",
    "}\n",
    "\n",
    "test3 = {\n",
    "    'input': {\n",
    "        'capacity': 170,\n",
    "        'weights': [41, 50, 49, 59, 55, 57, 60],\n",
    "        'profits': [442, 525, 511, 593, 546, 564, 617]\n",
    "    },\n",
    "    'output': 1735\n",
    "}\n",
    "\n",
    "test4 = {\n",
    "    'input': {\n",
    "        'capacity': 15,\n",
    "        'weights': [4, 5, 6],\n",
    "        'profits': [1, 2, 3]\n",
    "    },\n",
    "    'output': 6\n",
    "}\n",
    "\n",
    "test5 = {\n",
    "    'input': {\n",
    "        'capacity': 15,\n",
    "        'weights': [4, 5, 1, 3, 2, 5],\n",
    "        'profits': [2, 3, 1, 5, 4, 7]\n",
    "    },\n",
    "    'output': 19\n",
    "}"
   ]
  },
  {
   "cell_type": "code",
   "execution_count": 17,
   "id": "b429c1d0",
   "metadata": {},
   "outputs": [],
   "source": [
    "tests = [test0, test1, test2, test3, test4, test5]"
   ]
  },
  {
   "cell_type": "code",
   "execution_count": 18,
   "id": "fdc52b2c",
   "metadata": {},
   "outputs": [],
   "source": [
    "## solving the problem using recursive function\n",
    "def max_profit_recursive(weights, profits, capacity, idx=0):\n",
    "    if idx == len(weights):\n",
    "        return 0\n",
    "    elif weights[idx] > capacity:\n",
    "        return max_profit_recursive(weights, profits, capacity, idx+1)\n",
    "    else:\n",
    "        option1 = max_profit_recursive(weights, profits, capacity, idx+1)\n",
    "        option2 = profits[idx] + max_profit_recursive(weights, profits,\n",
    "                                                      capacity-weights[idx],\n",
    "                                                      idx+1)\n",
    "\n",
    "        return max(option1, option2)"
   ]
  },
  {
   "cell_type": "code",
   "execution_count": 19,
   "id": "b8f7ef23",
   "metadata": {},
   "outputs": [
    {
     "name": "stdout",
     "output_type": "stream",
     "text": [
      "309\n"
     ]
    },
    {
     "data": {
      "text/plain": [
       "True"
      ]
     },
     "execution_count": 19,
     "metadata": {},
     "output_type": "execute_result"
    }
   ],
   "source": [
    "print(max_profit_recursive(**test0[\"input\"]))\n",
    "max_profit_recursive(**test0[\"input\"]) == test0[\"output\"]"
   ]
  },
  {
   "cell_type": "code",
   "execution_count": 32,
   "id": "9420bd72",
   "metadata": {},
   "outputs": [],
   "source": [
    "## solving the problem using dynamic programming\n",
    "def max_profit_dp(weights, profits, capacity):\n",
    "    n = len(weights)\n",
    "    table = [[0 for _ in range(capacity+1)] for _ in range(n+1)]\n",
    "\n",
    "    for i in range(n):\n",
    "        for c in range(1, capacity+1):\n",
    "            if weights[i] > c:\n",
    "                table[i+1][c] = table[i][c]\n",
    "            else:\n",
    "                table[i+1][c] = max(table[i][c],\n",
    "                                  profits[i] + table[i][c - weights[i]])\n",
    "            \n",
    "\n",
    "    return table[-1][-1]\n"
   ]
  },
  {
   "cell_type": "code",
   "execution_count": 38,
   "id": "68ca0e2d",
   "metadata": {},
   "outputs": [
    {
     "name": "stdout",
     "output_type": "stream",
     "text": [
      "309\n"
     ]
    },
    {
     "data": {
      "text/plain": [
       "True"
      ]
     },
     "execution_count": 38,
     "metadata": {},
     "output_type": "execute_result"
    }
   ],
   "source": [
    "print(max_profit_dp(**test0[\"input\"]))\n",
    "max_profit_dp(**test0[\"input\"]) == test0[\"output\"]"
   ]
  }
 ],
 "metadata": {
  "kernelspec": {
   "display_name": "myenv",
   "language": "python",
   "name": "python3"
  },
  "language_info": {
   "codemirror_mode": {
    "name": "ipython",
    "version": 3
   },
   "file_extension": ".py",
   "mimetype": "text/x-python",
   "name": "python",
   "nbconvert_exporter": "python",
   "pygments_lexer": "ipython3",
   "version": "3.11.4"
  }
 },
 "nbformat": 4,
 "nbformat_minor": 5
}
