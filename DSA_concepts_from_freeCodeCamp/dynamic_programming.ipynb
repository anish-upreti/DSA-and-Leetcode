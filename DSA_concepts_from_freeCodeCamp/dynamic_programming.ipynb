{
 "cells": [
  {
   "cell_type": "markdown",
   "id": "49ade4c6",
   "metadata": {},
   "source": [
    "### longest common subsequence\n",
    "#### we are given two sequences and we need to find the length of the longest common subsequence between them\n"
   ]
  },
  {
   "cell_type": "markdown",
   "id": "4752d8a7",
   "metadata": {},
   "source": [
    "we can use different test cases like:\n",
    "- general case(string)\n",
    "- general case (list)\n",
    "- no common subsequence\n",
    "- one is the subsequence of other\n",
    "- one sequence is empty\n",
    "- both sequences are empty\n",
    "- multiple subsequences with same length"
   ]
  },
  {
   "cell_type": "code",
   "execution_count": null,
   "id": "c7aa0453",
   "metadata": {},
   "outputs": [],
   "source": [
    "def len_lcs(seq1, seq2):\n",
    "    pass"
   ]
  },
  {
   "cell_type": "code",
   "execution_count": null,
   "id": "ff84d0b0",
   "metadata": {},
   "outputs": [],
   "source": [
    "## synthetic test cases\n",
    "T0 = {\n",
    "    \"input\": {\n",
    "        \"seq1\" : \"serendipitous\",\n",
    "        \"seq2\" : \"precipitation\"\n",
    "    },\n",
    "    \"output\" : 7\n",
    "}\n",
    "\n",
    "T1 = {\n",
    "    \"input\": {\n",
    "        \"seq1\": [1, 2, 3, 4, 6, 8, 9],\n",
    "        \"seq2\" : [4, 5, 6, 7, 8, 9, 10, 11]\n",
    "    },\n",
    "    \"output\": 4\n",
    "}\n",
    "\n",
    "T2 = {\n",
    "    \"input\":{\n",
    "        \"seq1\" : \"asdfghjkl\",\n",
    "        \"seq2\" : \"qwertyuiop\"\n",
    "    },\n",
    "    \"output\" : 0\n",
    "}\n",
    "\n",
    "T3 = {\n",
    "    \"input\":{\n",
    "        \"seq1\": \"dense\",\n",
    "        \"seq2\" : \"condensed\"\n",
    "    },\n",
    "    \"output\" : 5\n",
    "}\n",
    "\n",
    "T4 = {\n",
    "    \"input\":{\n",
    "        \"seq1\" : \"\",\n",
    "        \"seq2\" : \"abcd\"\n",
    "    },\n",
    "    \"output\" : 0\n",
    "}\n",
    "\n",
    "T5 = {\n",
    "    \"input\":{\n",
    "        \"seq1\": \"\",\n",
    "        \"seq2\": \"\"\n",
    "    },\n",
    "    \"output\": 0\n",
    "}"
   ]
  },
  {
   "cell_type": "code",
   "execution_count": null,
   "id": "c83db81b",
   "metadata": {},
   "outputs": [],
   "source": []
  }
 ],
 "metadata": {
  "language_info": {
   "name": "python"
  }
 },
 "nbformat": 4,
 "nbformat_minor": 5
}
