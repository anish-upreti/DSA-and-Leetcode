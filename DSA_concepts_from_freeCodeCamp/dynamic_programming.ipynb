{
 "cells": [
  {
   "cell_type": "markdown",
   "id": "49ade4c6",
   "metadata": {},
   "source": [
    "### longest common subsequence\n",
    "#### we are given two sequences and we need to find the length of the longest common subsequence between them\n"
   ]
  },
  {
   "cell_type": "markdown",
   "id": "4752d8a7",
   "metadata": {},
   "source": [
    "we can use different test cases like:\n",
    "- general case(string)\n",
    "- general case (list)\n",
    "- no common subsequence\n",
    "- one is the subsequence of other\n",
    "- one sequence is empty\n",
    "- both sequences are empty\n",
    "- multiple subsequences with same length"
   ]
  },
  {
   "cell_type": "code",
   "execution_count": null,
   "id": "c7aa0453",
   "metadata": {},
   "outputs": [],
   "source": [
    "def len_lcs(seq1, seq2):\n",
    "    pass"
   ]
  },
  {
   "cell_type": "code",
   "execution_count": 1,
   "id": "ff84d0b0",
   "metadata": {},
   "outputs": [],
   "source": [
    "## synthetic test cases\n",
    "T0 = {\n",
    "    \"input\": {\n",
    "        \"seq1\" : \"serendipitous\",\n",
    "        \"seq2\" : \"precipitation\"\n",
    "    },\n",
    "    \"output\" : 7\n",
    "}\n",
    "\n",
    "T1 = {\n",
    "    \"input\": {\n",
    "        \"seq1\": [1, 2, 3, 4, 6, 8, 9],\n",
    "        \"seq2\" : [4, 5, 6, 7, 8, 9, 10, 11]\n",
    "    },\n",
    "    \"output\": 4\n",
    "}\n",
    "\n",
    "T2 = {\n",
    "    \"input\":{\n",
    "        \"seq1\" : \"asdfghjkl\",\n",
    "        \"seq2\" : \"qwertyuiop\"\n",
    "    },\n",
    "    \"output\" : 0\n",
    "}\n",
    "\n",
    "T3 = {\n",
    "    \"input\":{\n",
    "        \"seq1\": \"dense\",\n",
    "        \"seq2\" : \"condensed\"\n",
    "    },\n",
    "    \"output\" : 5\n",
    "}\n",
    "\n",
    "T4 = {\n",
    "    \"input\":{\n",
    "        \"seq1\" : \"\",\n",
    "        \"seq2\" : \"abcd\"\n",
    "    },\n",
    "    \"output\" : 0\n",
    "}\n",
    "\n",
    "T5 = {\n",
    "    \"input\":{\n",
    "        \"seq1\": \"\",\n",
    "        \"seq2\": \"\"\n",
    "    },\n",
    "    \"output\": 0\n",
    "}"
   ]
  },
  {
   "cell_type": "code",
   "execution_count": null,
   "id": "c83db81b",
   "metadata": {},
   "outputs": [],
   "source": [
    "lcs_tests = [T0, T1, T2, T3, T4, T5]\n"
   ]
  },
  {
   "cell_type": "code",
   "execution_count": null,
   "id": "fb49c6de",
   "metadata": {},
   "outputs": [],
   "source": [
    "## solving using recursion\n",
    "def lcs_recursive(seq1, seq2, idx1= 0, idx2 = 0):\n",
    "    if idx1 == len(seq1) or idx2 == len(seq2):\n",
    "        return 0\n",
    "    elif seq1[idx1] == seq2[idx2]:\n",
    "        return 1 + lcs_recursive(seq1, seq2, idx1+1, idx2+1)\n",
    "    else:\n",
    "        option1 = lcs_recursive(seq1, seq2, idx1+1, idx2)\n",
    "        option2 = lcs_recursive(seq1, seq2, idx1, idx2+1)\n",
    "        return max(option1, option2)"
   ]
  },
  {
   "cell_type": "code",
   "execution_count": 7,
   "id": "e4743921",
   "metadata": {},
   "outputs": [
    {
     "data": {
      "text/plain": [
       "7"
      ]
     },
     "execution_count": 7,
     "metadata": {},
     "output_type": "execute_result"
    }
   ],
   "source": [
    "## checking for test cases\n",
    "lcs_recursive(T0[\"input\"][\"seq1\"], T0[\"input\"][\"seq2\"])"
   ]
  },
  {
   "cell_type": "code",
   "execution_count": 8,
   "id": "37ecc2f2",
   "metadata": {},
   "outputs": [
    {
     "data": {
      "text/plain": [
       "True"
      ]
     },
     "execution_count": 8,
     "metadata": {},
     "output_type": "execute_result"
    }
   ],
   "source": [
    "lcs_recursive(T0[\"input\"][\"seq1\"], T0[\"input\"][\"seq2\"]) == T0[\"output\"]"
   ]
  },
  {
   "cell_type": "markdown",
   "id": "51db2696",
   "metadata": {},
   "source": [
    "#### Time complexity for this problem is : O(2 pow (m + n)) using recursive approach"
   ]
  },
  {
   "cell_type": "markdown",
   "id": "7f7cf333",
   "metadata": {},
   "source": [
    "## solving problem using memoization"
   ]
  },
  {
   "cell_type": "code",
   "execution_count": 9,
   "id": "db5bb187",
   "metadata": {},
   "outputs": [],
   "source": [
    "def lcs_memo(seq1, seq2):\n",
    "    memo = {}\n",
    "\n",
    "    def recursive(idx1=0, idx2=0):\n",
    "        key = (idx1, idx2)\n",
    "\n",
    "        # Check if the result for the current pair of indices is already computed\n",
    "        if key in memo:\n",
    "            return memo[key]\n",
    "        \n",
    "        # Base case: if either sequence is exhausted\n",
    "        elif idx1 == len(seq1) or idx2 == len(seq2):\n",
    "            memo[key] = 0 \n",
    "        \n",
    "        # If the characters match, increment the LCS length\n",
    "        elif seq1[idx1] == seq2[idx2]:\n",
    "            memo[key] = 1 + recursive(idx1 + 1, idx2 + 1)\n",
    "        \n",
    "        # If characters do not match, try both possibilities and take the maximum\n",
    "        else:\n",
    "            memo[key] = max(recursive(idx1 + 1, idx2), recursive(idx1, idx2 + 1))\n",
    "\n",
    "        return memo[key]\n",
    "\n",
    "    # Start the recursive process\n",
    "    return recursive(0, 0)\n"
   ]
  },
  {
   "cell_type": "code",
   "execution_count": 10,
   "id": "9300c7a2",
   "metadata": {},
   "outputs": [
    {
     "data": {
      "text/plain": [
       "True"
      ]
     },
     "execution_count": 10,
     "metadata": {},
     "output_type": "execute_result"
    }
   ],
   "source": [
    "lcs_memo(T0[\"input\"][\"seq1\"], T0[\"input\"][\"seq2\"]) == T0[\"output\"]"
   ]
  },
  {
   "cell_type": "code",
   "execution_count": 11,
   "id": "eee4627b",
   "metadata": {},
   "outputs": [
    {
     "data": {
      "text/plain": [
       "True"
      ]
     },
     "execution_count": 11,
     "metadata": {},
     "output_type": "execute_result"
    }
   ],
   "source": [
    "lcs_memo(T1[\"input\"][\"seq1\"], T1[\"input\"][\"seq2\"]) == T1[\"output\"]"
   ]
  },
  {
   "cell_type": "code",
   "execution_count": null,
   "id": "8e75475e",
   "metadata": {},
   "outputs": [],
   "source": []
  }
 ],
 "metadata": {
  "kernelspec": {
   "display_name": "myenv",
   "language": "python",
   "name": "python3"
  },
  "language_info": {
   "codemirror_mode": {
    "name": "ipython",
    "version": 3
   },
   "file_extension": ".py",
   "mimetype": "text/x-python",
   "name": "python",
   "nbconvert_exporter": "python",
   "pygments_lexer": "ipython3",
   "version": "3.11.4"
  }
 },
 "nbformat": 4,
 "nbformat_minor": 5
}
